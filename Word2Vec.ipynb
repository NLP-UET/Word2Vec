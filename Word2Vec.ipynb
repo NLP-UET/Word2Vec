{
  "nbformat": 4,
  "nbformat_minor": 0,
  "metadata": {
    "colab": {
      "provenance": [],
      "gpuType": "T4"
    },
    "kernelspec": {
      "name": "python3",
      "display_name": "Python 3"
    },
    "language_info": {
      "name": "python"
    },
    "accelerator": "GPU"
  },
  "cells": [
    {
      "cell_type": "markdown",
      "source": [
        "# Import libraries"
      ],
      "metadata": {
        "id": "_gLQOHmmPYSa"
      }
    },
    {
      "cell_type": "code",
      "source": [
        "import pandas as pd\n",
        "import numpy as np\n",
        "import string as pystring\n",
        "from tensorflow.keras.preprocessing.text import Tokenizer\n",
        "from tensorflow.keras.preprocessing.sequence import pad_sequences\n",
        "from tensorflow.keras.utils import to_categorical\n",
        "from tensorflow.keras.models import Sequential\n",
        "from tensorflow.keras.layers import Embedding, Lambda, Dense\n",
        "from tensorflow.keras import backend as K"
      ],
      "metadata": {
        "id": "i9lOsGJkPWpd"
      },
      "execution_count": 1,
      "outputs": []
    },
    {
      "cell_type": "markdown",
      "source": [
        "# Load Dataset"
      ],
      "metadata": {
        "id": "fOszZU-vP1Rj"
      }
    },
    {
      "cell_type": "code",
      "execution_count": 2,
      "metadata": {
        "colab": {
          "base_uri": "https://localhost:8080/"
        },
        "id": "hSmAvYYSEw0H",
        "outputId": "f1f4a478-3d04-4625-f584-02a1ba1600cb"
      },
      "outputs": [
        {
          "output_type": "stream",
          "name": "stdout",
          "text": [
            "/usr/local/lib/python3.10/dist-packages/gdown/__main__.py:132: FutureWarning: Option `--id` was deprecated in version 4.3.1 and will be removed in 5.0. You don't need to pass it anymore to use a file ID.\n",
            "  warnings.warn(\n",
            "Downloading...\n",
            "From: https://drive.google.com/uc?id=1USrci90pyG2E76_VFH1igIYj2i8BvlmE\n",
            "To: /content/truyen_kieu.txt\n",
            "100% 140k/140k [00:00<00:00, 96.3MB/s]\n"
          ]
        }
      ],
      "source": [
        "!gdown --id 1USrci90pyG2E76_VFH1igIYj2i8BvlmE"
      ]
    },
    {
      "cell_type": "code",
      "source": [
        "with open('truyen_kieu.txt', 'r', encoding='utf-8') as file:\n",
        "    lines = file.readlines()"
      ],
      "metadata": {
        "id": "ClUW7BPvIK-E"
      },
      "execution_count": 3,
      "outputs": []
    },
    {
      "cell_type": "markdown",
      "source": [
        "# Preprocessing"
      ],
      "metadata": {
        "id": "ATrOilYAQCJS"
      }
    },
    {
      "cell_type": "code",
      "source": [
        "PUNCT_TO_REMOVE = pystring.punctuation + pystring.digits + \"\\n\"\n",
        "def clean_text (text):\n",
        "  \"\"\"custom function to removal: punctuations and digits\"\"\"\n",
        "  text = text.translate(str.maketrans(' ',' ', PUNCT_TO_REMOVE))\n",
        "  text = text.lower()\n",
        "  return text\n",
        "clean_text(lines[0])"
      ],
      "metadata": {
        "colab": {
          "base_uri": "https://localhost:8080/",
          "height": 36
        },
        "id": "9Ytcu6mvGtmy",
        "outputId": "fc3fc5a4-ff73-48ad-a8a0-1c47f3e42c3f"
      },
      "execution_count": 4,
      "outputs": [
        {
          "output_type": "execute_result",
          "data": {
            "text/plain": [
              "'trăm năm trong cõi người ta'"
            ],
            "application/vnd.google.colaboratory.intrinsic+json": {
              "type": "string"
            }
          },
          "metadata": {},
          "execution_count": 4
        }
      ]
    },
    {
      "cell_type": "code",
      "source": [
        "corpus = [clean_text(line) for line in lines]\n",
        "print(corpus[0])"
      ],
      "metadata": {
        "colab": {
          "base_uri": "https://localhost:8080/"
        },
        "id": "uR0WOOpHKNMQ",
        "outputId": "2768d647-f041-4286-bd2d-27420a664a14"
      },
      "execution_count": 5,
      "outputs": [
        {
          "output_type": "stream",
          "name": "stdout",
          "text": [
            "trăm năm trong cõi người ta\n"
          ]
        }
      ]
    },
    {
      "cell_type": "markdown",
      "source": [
        "# Build Data"
      ],
      "metadata": {
        "id": "GCEDzNncQToR"
      }
    },
    {
      "cell_type": "code",
      "source": [
        "def get_centers_and_contexts(corpus, max_window_size=2):\n",
        "  centers, contexts = [], []\n",
        "  for line in corpus:\n",
        "\n",
        "    line = line.split()\n",
        "\n",
        "    if len(line) <= 2*max_window_size:\n",
        "      continue\n",
        "    for i in range(max_window_size, len(line) - max_window_size):\n",
        "      centers.append(line[i])\n",
        "      idxs = list(range(i-max_window_size, i+max_window_size+1))\n",
        "      idxs.remove(i)\n",
        "      contexts.append(\" \".join([line[idx] for idx in idxs]))\n",
        "  return centers, contexts"
      ],
      "metadata": {
        "id": "XWWOQaSMHB02"
      },
      "execution_count": 6,
      "outputs": []
    },
    {
      "cell_type": "code",
      "source": [
        "centers, contexts = get_centers_and_contexts(corpus)\n",
        "len(centers), len(contexts)"
      ],
      "metadata": {
        "colab": {
          "base_uri": "https://localhost:8080/"
        },
        "id": "3BiX02xEJKKC",
        "outputId": "a8726865-81bf-488d-f782-7191df1cd3db"
      },
      "execution_count": 7,
      "outputs": [
        {
          "output_type": "execute_result",
          "data": {
            "text/plain": [
              "(9778, 9778)"
            ]
          },
          "metadata": {},
          "execution_count": 7
        }
      ]
    },
    {
      "cell_type": "code",
      "source": [
        "centers[:2], contexts[:2]"
      ],
      "metadata": {
        "colab": {
          "base_uri": "https://localhost:8080/"
        },
        "id": "QCIZpWpuJWeM",
        "outputId": "50917bfe-2316-4921-fd79-b1bb3a847ea6"
      },
      "execution_count": 8,
      "outputs": [
        {
          "output_type": "execute_result",
          "data": {
            "text/plain": [
              "(['trong', 'cõi'], ['trăm năm cõi người', 'năm trong người ta'])"
            ]
          },
          "metadata": {},
          "execution_count": 8
        }
      ]
    },
    {
      "cell_type": "markdown",
      "source": [
        "# Representation"
      ],
      "metadata": {
        "id": "SHa5_BRRQeF9"
      }
    },
    {
      "cell_type": "code",
      "source": [
        "max_length = 4\n",
        "embedding_size = 200"
      ],
      "metadata": {
        "id": "5E0VYCmRKBYV"
      },
      "execution_count": 9,
      "outputs": []
    },
    {
      "cell_type": "code",
      "source": [
        "tokenizer = Tokenizer(oov_token='<OOV>')\n",
        "tokenizer.fit_on_texts(corpus)"
      ],
      "metadata": {
        "id": "uzV4gjK3LWOJ"
      },
      "execution_count": 10,
      "outputs": []
    },
    {
      "cell_type": "code",
      "source": [
        "vocab_size = len(tokenizer.index_word) + 1"
      ],
      "metadata": {
        "id": "k_7XE-JbLvgG"
      },
      "execution_count": 11,
      "outputs": []
    },
    {
      "cell_type": "code",
      "source": [
        "train_seq = tokenizer.texts_to_sequences(contexts)\n",
        "train_seq_pad = pad_sequences(train_seq, maxlen=max_length, truncating='post', padding=\"post\")"
      ],
      "metadata": {
        "id": "8XVvZaWmLzxn"
      },
      "execution_count": 12,
      "outputs": []
    },
    {
      "cell_type": "code",
      "source": [
        "train_labels = [to_categorical(tokenizer.word_index[label], len(tokenizer.word_index) + 1) for label in centers]"
      ],
      "metadata": {
        "id": "O0hEy_h9MFxu"
      },
      "execution_count": 13,
      "outputs": []
    },
    {
      "cell_type": "code",
      "source": [
        "train_labels = np.array(train_labels)"
      ],
      "metadata": {
        "id": "rAU3YsshMWb4"
      },
      "execution_count": 14,
      "outputs": []
    },
    {
      "cell_type": "markdown",
      "source": [
        "# CBOW Model"
      ],
      "metadata": {
        "id": "o3_GkY-QQmG-"
      }
    },
    {
      "cell_type": "code",
      "source": [
        "cbow = Sequential()\n",
        "cbow.add(Embedding(input_dim=vocab_size, output_dim=embedding_size, input_length=max_length))\n",
        "cbow.add(Lambda(lambda x: K.mean(x, axis=1), output_shape=(embedding_size,)))\n",
        "cbow.add(Dense(vocab_size, activation='softmax'))\n",
        "cbow.summary()"
      ],
      "metadata": {
        "colab": {
          "base_uri": "https://localhost:8080/"
        },
        "id": "Mm4FtbVeMtty",
        "outputId": "a0dd09c6-2d52-4024-d1ac-918d9a9707dd"
      },
      "execution_count": 15,
      "outputs": [
        {
          "output_type": "stream",
          "name": "stdout",
          "text": [
            "Model: \"sequential\"\n",
            "_________________________________________________________________\n",
            " Layer (type)                Output Shape              Param #   \n",
            "=================================================================\n",
            " embedding (Embedding)       (None, 4, 200)            482400    \n",
            "                                                                 \n",
            " lambda (Lambda)             (None, 200)               0         \n",
            "                                                                 \n",
            " dense (Dense)               (None, 2412)              484812    \n",
            "                                                                 \n",
            "=================================================================\n",
            "Total params: 967212 (3.69 MB)\n",
            "Trainable params: 967212 (3.69 MB)\n",
            "Non-trainable params: 0 (0.00 Byte)\n",
            "_________________________________________________________________\n"
          ]
        }
      ]
    },
    {
      "cell_type": "code",
      "source": [
        "cbow.compile(loss='categorical_crossentropy', optimizer='adam', metrics=['acc'])\n",
        "cbow.fit(train_seq_pad, train_labels, epochs=30, verbose=1)"
      ],
      "metadata": {
        "colab": {
          "base_uri": "https://localhost:8080/"
        },
        "id": "-HyoxkPmM7cR",
        "outputId": "914506a4-fafa-43a4-bae6-dac3471fb764"
      },
      "execution_count": 16,
      "outputs": [
        {
          "output_type": "stream",
          "name": "stdout",
          "text": [
            "Epoch 1/30\n",
            "306/306 [==============================] - 8s 19ms/step - loss: 7.4536 - acc: 0.0183\n",
            "Epoch 2/30\n",
            "306/306 [==============================] - 2s 7ms/step - loss: 6.7264 - acc: 0.0205\n",
            "Epoch 3/30\n",
            "306/306 [==============================] - 2s 6ms/step - loss: 6.5675 - acc: 0.0240\n",
            "Epoch 4/30\n",
            "306/306 [==============================] - 2s 5ms/step - loss: 6.3946 - acc: 0.0353\n",
            "Epoch 5/30\n",
            "306/306 [==============================] - 2s 5ms/step - loss: 6.1507 - acc: 0.0532\n",
            "Epoch 6/30\n",
            "306/306 [==============================] - 2s 8ms/step - loss: 5.8244 - acc: 0.0782\n",
            "Epoch 7/30\n",
            "306/306 [==============================] - 2s 5ms/step - loss: 5.4259 - acc: 0.1132\n",
            "Epoch 8/30\n",
            "306/306 [==============================] - 2s 5ms/step - loss: 4.9736 - acc: 0.1545\n",
            "Epoch 9/30\n",
            "306/306 [==============================] - 1s 5ms/step - loss: 4.4889 - acc: 0.2064\n",
            "Epoch 10/30\n",
            "306/306 [==============================] - 1s 5ms/step - loss: 3.9984 - acc: 0.2716\n",
            "Epoch 11/30\n",
            "306/306 [==============================] - 1s 4ms/step - loss: 3.5240 - acc: 0.3424\n",
            "Epoch 12/30\n",
            "306/306 [==============================] - 1s 5ms/step - loss: 3.0803 - acc: 0.4189\n",
            "Epoch 13/30\n",
            "306/306 [==============================] - 1s 4ms/step - loss: 2.6771 - acc: 0.4899\n",
            "Epoch 14/30\n",
            "306/306 [==============================] - 2s 6ms/step - loss: 2.3167 - acc: 0.5594\n",
            "Epoch 15/30\n",
            "306/306 [==============================] - 1s 5ms/step - loss: 2.0004 - acc: 0.6273\n",
            "Epoch 16/30\n",
            "306/306 [==============================] - 1s 4ms/step - loss: 1.7252 - acc: 0.6853\n",
            "Epoch 17/30\n",
            "306/306 [==============================] - 1s 4ms/step - loss: 1.4880 - acc: 0.7392\n",
            "Epoch 18/30\n",
            "306/306 [==============================] - 1s 5ms/step - loss: 1.2840 - acc: 0.7840\n",
            "Epoch 19/30\n",
            "306/306 [==============================] - 1s 4ms/step - loss: 1.1104 - acc: 0.8201\n",
            "Epoch 20/30\n",
            "306/306 [==============================] - 1s 4ms/step - loss: 0.9621 - acc: 0.8492\n",
            "Epoch 21/30\n",
            "306/306 [==============================] - 1s 4ms/step - loss: 0.8354 - acc: 0.8775\n",
            "Epoch 22/30\n",
            "306/306 [==============================] - 1s 4ms/step - loss: 0.7273 - acc: 0.8989\n",
            "Epoch 23/30\n",
            "306/306 [==============================] - 2s 6ms/step - loss: 0.6350 - acc: 0.9180\n",
            "Epoch 24/30\n",
            "306/306 [==============================] - 2s 5ms/step - loss: 0.5559 - acc: 0.9291\n",
            "Epoch 25/30\n",
            "306/306 [==============================] - 1s 5ms/step - loss: 0.4878 - acc: 0.9421\n",
            "Epoch 26/30\n",
            "306/306 [==============================] - 1s 4ms/step - loss: 0.4294 - acc: 0.9520\n",
            "Epoch 27/30\n",
            "306/306 [==============================] - 2s 5ms/step - loss: 0.3786 - acc: 0.9611\n",
            "Epoch 28/30\n",
            "306/306 [==============================] - 1s 4ms/step - loss: 0.3350 - acc: 0.9674\n",
            "Epoch 29/30\n",
            "306/306 [==============================] - 1s 4ms/step - loss: 0.2967 - acc: 0.9726\n",
            "Epoch 30/30\n",
            "306/306 [==============================] - 2s 7ms/step - loss: 0.2637 - acc: 0.9763\n"
          ]
        },
        {
          "output_type": "execute_result",
          "data": {
            "text/plain": [
              "<keras.src.callbacks.History at 0x798b51753eb0>"
            ]
          },
          "metadata": {},
          "execution_count": 16
        }
      ]
    },
    {
      "cell_type": "markdown",
      "source": [
        "# Predict"
      ],
      "metadata": {
        "id": "WUJ9csjmQv4g"
      }
    },
    {
      "cell_type": "code",
      "source": [
        "sample_text = 'trăm năm cõi người'\n",
        "sample_seq = tokenizer.texts_to_sequences([sample_text])\n",
        "sample_seq_pad = pad_sequences(sample_seq, maxlen=max_length, truncating='post', padding=\"post\")\n",
        "cbow.predict(sample_seq_pad)"
      ],
      "metadata": {
        "colab": {
          "base_uri": "https://localhost:8080/"
        },
        "id": "BvDBq0YCNdBv",
        "outputId": "ab0bd4a7-faff-4043-c4ff-06731279510a"
      },
      "execution_count": 17,
      "outputs": [
        {
          "output_type": "stream",
          "name": "stdout",
          "text": [
            "1/1 [==============================] - 0s 181ms/step\n"
          ]
        },
        {
          "output_type": "execute_result",
          "data": {
            "text/plain": [
              "array([[6.1588022e-12, 6.0259302e-12, 1.2421175e-03, ..., 4.2154522e-08,\n",
              "        6.2985797e-12, 6.2523782e-08]], dtype=float32)"
            ]
          },
          "metadata": {},
          "execution_count": 17
        }
      ]
    },
    {
      "cell_type": "code",
      "source": [
        "tokenizer.index_word[np.argmax(cbow.predict(sample_seq_pad))]"
      ],
      "metadata": {
        "colab": {
          "base_uri": "https://localhost:8080/",
          "height": 53
        },
        "id": "6Nfbe-DuOPx3",
        "outputId": "23dcbb62-b149-443a-b9a5-e560d704eb0d"
      },
      "execution_count": 18,
      "outputs": [
        {
          "output_type": "stream",
          "name": "stdout",
          "text": [
            "1/1 [==============================] - 0s 47ms/step\n"
          ]
        },
        {
          "output_type": "execute_result",
          "data": {
            "text/plain": [
              "'trong'"
            ],
            "application/vnd.google.colaboratory.intrinsic+json": {
              "type": "string"
            }
          },
          "metadata": {},
          "execution_count": 18
        }
      ]
    }
  ]
}