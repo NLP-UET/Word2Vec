{
  "nbformat": 4,
  "nbformat_minor": 0,
  "metadata": {
    "colab": {
      "provenance": []
    },
    "kernelspec": {
      "name": "python3",
      "display_name": "Python 3"
    },
    "language_info": {
      "name": "python"
    }
  },
  "cells": [
    {
      "cell_type": "markdown",
      "source": [
        "# Import libraries"
      ],
      "metadata": {
        "id": "_gLQOHmmPYSa"
      }
    },
    {
      "cell_type": "code",
      "source": [
        "import pandas as pd\n",
        "import numpy as np\n",
        "import string as pystring\n",
        "from tensorflow.keras.preprocessing.text import Tokenizer\n",
        "from tensorflow.keras.preprocessing.sequence import pad_sequences\n",
        "from tensorflow.keras.utils import to_categorical\n",
        "from tensorflow.keras.models import Sequential\n",
        "from tensorflow.keras.layers import Embedding, Lambda, Dense\n",
        "from tensorflow.keras import backend as K"
      ],
      "metadata": {
        "id": "i9lOsGJkPWpd"
      },
      "execution_count": 1,
      "outputs": []
    },
    {
      "cell_type": "markdown",
      "source": [
        "# Load Dataset"
      ],
      "metadata": {
        "id": "fOszZU-vP1Rj"
      }
    },
    {
      "cell_type": "code",
      "execution_count": 2,
      "metadata": {
        "colab": {
          "base_uri": "https://localhost:8080/"
        },
        "id": "hSmAvYYSEw0H",
        "outputId": "c06b8320-5789-4191-d222-a8fdf36c357f"
      },
      "outputs": [
        {
          "output_type": "stream",
          "name": "stdout",
          "text": [
            "/usr/local/lib/python3.10/dist-packages/gdown/__main__.py:132: FutureWarning: Option `--id` was deprecated in version 4.3.1 and will be removed in 5.0. You don't need to pass it anymore to use a file ID.\n",
            "  warnings.warn(\n",
            "Downloading...\n",
            "From: https://drive.google.com/uc?id=1USrci90pyG2E76_VFH1igIYj2i8BvlmE\n",
            "To: /content/truyen_kieu.txt\n",
            "100% 140k/140k [00:00<00:00, 49.6MB/s]\n"
          ]
        }
      ],
      "source": [
        "!gdown --id 1USrci90pyG2E76_VFH1igIYj2i8BvlmE"
      ]
    },
    {
      "cell_type": "code",
      "source": [
        "with open('truyen_kieu.txt', 'r', encoding='utf-8') as file:\n",
        "    lines = file.readlines()"
      ],
      "metadata": {
        "id": "ClUW7BPvIK-E"
      },
      "execution_count": 3,
      "outputs": []
    },
    {
      "cell_type": "markdown",
      "source": [
        "# Preprocessing"
      ],
      "metadata": {
        "id": "ATrOilYAQCJS"
      }
    },
    {
      "cell_type": "code",
      "source": [
        "PUNCT_TO_REMOVE = pystring.punctuation + pystring.digits + \"\\n\"\n",
        "def clean_text (text):\n",
        "  \"\"\"custom function to removal: punctuations and digits\"\"\"\n",
        "  text = text.translate(str.maketrans(' ',' ', PUNCT_TO_REMOVE))\n",
        "  text = text.lower()\n",
        "  return text\n",
        "clean_text(lines[0])"
      ],
      "metadata": {
        "colab": {
          "base_uri": "https://localhost:8080/",
          "height": 36
        },
        "id": "9Ytcu6mvGtmy",
        "outputId": "bf1c59a1-078c-419e-cc93-daeeadefaf64"
      },
      "execution_count": 4,
      "outputs": [
        {
          "output_type": "execute_result",
          "data": {
            "text/plain": [
              "'trăm năm trong cõi người ta'"
            ],
            "application/vnd.google.colaboratory.intrinsic+json": {
              "type": "string"
            }
          },
          "metadata": {},
          "execution_count": 4
        }
      ]
    },
    {
      "cell_type": "code",
      "source": [
        "corpus = [clean_text(line) for line in lines]\n",
        "print(corpus[0])"
      ],
      "metadata": {
        "colab": {
          "base_uri": "https://localhost:8080/"
        },
        "id": "uR0WOOpHKNMQ",
        "outputId": "99f8a5b2-4813-48b0-cb5a-df7cdafd2b67"
      },
      "execution_count": 5,
      "outputs": [
        {
          "output_type": "stream",
          "name": "stdout",
          "text": [
            "trăm năm trong cõi người ta\n"
          ]
        }
      ]
    },
    {
      "cell_type": "markdown",
      "source": [
        "# Build Data"
      ],
      "metadata": {
        "id": "GCEDzNncQToR"
      }
    },
    {
      "cell_type": "code",
      "source": [
        "def get_centers_and_contexts(corpus, max_window_size=2):\n",
        "  centers, contexts = [], []\n",
        "  for line in corpus:\n",
        "    line = line.split()\n",
        "    if len(line) <= 2*max_window_size:\n",
        "      continue\n",
        "    for i in range(max_window_size, len(line)-max_window_size):\n",
        "      centers.append(line[1])\n",
        "      idxs = list(range(i-max_window_size, i+max_window_size+1))\n",
        "      idxs.remove(i)\n",
        "      contexts.append(\" \".join([line[idx] for idx in idxs]))\n",
        "  return centers, contexts"
      ],
      "metadata": {
        "id": "XWWOQaSMHB02"
      },
      "execution_count": 6,
      "outputs": []
    },
    {
      "cell_type": "code",
      "source": [
        "centers, contexts = get_centers_and_contexts(corpus)\n",
        "len(centers), len(contexts)"
      ],
      "metadata": {
        "colab": {
          "base_uri": "https://localhost:8080/"
        },
        "id": "3BiX02xEJKKC",
        "outputId": "41a9d624-2476-4a3e-f6ae-e32b9435955a"
      },
      "execution_count": 7,
      "outputs": [
        {
          "output_type": "execute_result",
          "data": {
            "text/plain": [
              "(9778, 9778)"
            ]
          },
          "metadata": {},
          "execution_count": 7
        }
      ]
    },
    {
      "cell_type": "code",
      "source": [
        "centers[:2], contexts[:2]"
      ],
      "metadata": {
        "colab": {
          "base_uri": "https://localhost:8080/"
        },
        "id": "QCIZpWpuJWeM",
        "outputId": "8e26532f-597f-4872-8df1-35a81be14865"
      },
      "execution_count": 8,
      "outputs": [
        {
          "output_type": "execute_result",
          "data": {
            "text/plain": [
              "(['năm', 'năm'], ['trăm năm cõi người', 'năm trong người ta'])"
            ]
          },
          "metadata": {},
          "execution_count": 8
        }
      ]
    },
    {
      "cell_type": "markdown",
      "source": [
        "# Representation"
      ],
      "metadata": {
        "id": "SHa5_BRRQeF9"
      }
    },
    {
      "cell_type": "code",
      "source": [
        "max_length = 4\n",
        "embedding_size = 200"
      ],
      "metadata": {
        "id": "5E0VYCmRKBYV"
      },
      "execution_count": 9,
      "outputs": []
    },
    {
      "cell_type": "code",
      "source": [
        "tokenizer = Tokenizer(oov_token='<OOV>')\n",
        "tokenizer.fit_on_texts(corpus)"
      ],
      "metadata": {
        "id": "uzV4gjK3LWOJ"
      },
      "execution_count": 10,
      "outputs": []
    },
    {
      "cell_type": "code",
      "source": [
        "vocab_size = len(tokenizer.index_word) + 1"
      ],
      "metadata": {
        "id": "k_7XE-JbLvgG"
      },
      "execution_count": 11,
      "outputs": []
    },
    {
      "cell_type": "code",
      "source": [
        "\n",
        "train_seq = tokenizer.texts_to_sequences(contexts)\n",
        "train_seq_pad = pad_sequences(train_seq, maxlen=max_length, truncating='post', padding=\"post\")"
      ],
      "metadata": {
        "id": "8XVvZaWmLzxn"
      },
      "execution_count": 12,
      "outputs": []
    },
    {
      "cell_type": "code",
      "source": [
        "train_labels = [to_categorical(tokenizer.word_index[label], len(tokenizer.word_index) + 1) for label in centers]"
      ],
      "metadata": {
        "id": "O0hEy_h9MFxu"
      },
      "execution_count": 13,
      "outputs": []
    },
    {
      "cell_type": "code",
      "source": [
        "train_labels = np.array(train_labels)"
      ],
      "metadata": {
        "id": "rAU3YsshMWb4"
      },
      "execution_count": 14,
      "outputs": []
    },
    {
      "cell_type": "markdown",
      "source": [
        "# CBOW Model"
      ],
      "metadata": {
        "id": "o3_GkY-QQmG-"
      }
    },
    {
      "cell_type": "code",
      "source": [
        "cbow = Sequential()\n",
        "cbow.add(Embedding(input_dim=vocab_size, output_dim=embedding_size, input_length=4))\n",
        "cbow.add(Lambda(lambda x: K.mean(x, axis=1), output_shape=(embedding_size,)))\n",
        "cbow.add(Dense(vocab_size, activation='softmax'))\n",
        "cbow.summary()"
      ],
      "metadata": {
        "colab": {
          "base_uri": "https://localhost:8080/"
        },
        "id": "Mm4FtbVeMtty",
        "outputId": "20c3d411-c031-4fd4-88ad-bc8f838ec7dc"
      },
      "execution_count": 15,
      "outputs": [
        {
          "output_type": "stream",
          "name": "stdout",
          "text": [
            "Model: \"sequential\"\n",
            "_________________________________________________________________\n",
            " Layer (type)                Output Shape              Param #   \n",
            "=================================================================\n",
            " embedding (Embedding)       (None, 4, 200)            482400    \n",
            "                                                                 \n",
            " lambda (Lambda)             (None, 200)               0         \n",
            "                                                                 \n",
            " dense (Dense)               (None, 2412)              484812    \n",
            "                                                                 \n",
            "=================================================================\n",
            "Total params: 967212 (3.69 MB)\n",
            "Trainable params: 967212 (3.69 MB)\n",
            "Non-trainable params: 0 (0.00 Byte)\n",
            "_________________________________________________________________\n"
          ]
        }
      ]
    },
    {
      "cell_type": "code",
      "source": [
        "cbow.compile(loss='categorical_crossentropy', optimizer='adam', metrics=['acc'])\n",
        "cbow.fit(train_seq_pad, train_labels, epochs=30, verbose=1)"
      ],
      "metadata": {
        "colab": {
          "base_uri": "https://localhost:8080/"
        },
        "id": "-HyoxkPmM7cR",
        "outputId": "448544bc-eb8a-4009-dd01-ec1c191405fd"
      },
      "execution_count": 16,
      "outputs": [
        {
          "output_type": "stream",
          "name": "stdout",
          "text": [
            "Epoch 1/30\n",
            "306/306 [==============================] - 8s 22ms/step - loss: 6.7020 - acc: 0.0946\n",
            "Epoch 2/30\n",
            "306/306 [==============================] - 5s 18ms/step - loss: 5.3391 - acc: 0.1274\n",
            "Epoch 3/30\n",
            "306/306 [==============================] - 6s 19ms/step - loss: 4.7517 - acc: 0.2456\n",
            "Epoch 4/30\n",
            "306/306 [==============================] - 5s 16ms/step - loss: 4.0412 - acc: 0.3527\n",
            "Epoch 5/30\n",
            "306/306 [==============================] - 6s 20ms/step - loss: 3.2889 - acc: 0.4404\n",
            "Epoch 6/30\n",
            "306/306 [==============================] - 5s 16ms/step - loss: 2.5729 - acc: 0.5278\n",
            "Epoch 7/30\n",
            "306/306 [==============================] - 5s 16ms/step - loss: 1.9460 - acc: 0.6154\n",
            "Epoch 8/30\n",
            "306/306 [==============================] - 6s 20ms/step - loss: 1.4426 - acc: 0.7017\n",
            "Epoch 9/30\n",
            "306/306 [==============================] - 5s 16ms/step - loss: 1.0635 - acc: 0.7800\n",
            "Epoch 10/30\n",
            "306/306 [==============================] - 6s 21ms/step - loss: 0.7891 - acc: 0.8448\n",
            "Epoch 11/30\n",
            "306/306 [==============================] - 5s 16ms/step - loss: 0.5929 - acc: 0.8929\n",
            "Epoch 12/30\n",
            "306/306 [==============================] - 5s 17ms/step - loss: 0.4532 - acc: 0.9230\n",
            "Epoch 13/30\n",
            "306/306 [==============================] - 6s 21ms/step - loss: 0.3532 - acc: 0.9472\n",
            "Epoch 14/30\n",
            "306/306 [==============================] - 5s 17ms/step - loss: 0.2796 - acc: 0.9623\n",
            "Epoch 15/30\n",
            "306/306 [==============================] - 6s 21ms/step - loss: 0.2256 - acc: 0.9728\n",
            "Epoch 16/30\n",
            "306/306 [==============================] - 5s 17ms/step - loss: 0.1847 - acc: 0.9795\n",
            "Epoch 17/30\n",
            "306/306 [==============================] - 5s 16ms/step - loss: 0.1525 - acc: 0.9845\n",
            "Epoch 18/30\n",
            "306/306 [==============================] - 6s 20ms/step - loss: 0.1278 - acc: 0.9869\n",
            "Epoch 19/30\n",
            "306/306 [==============================] - 5s 16ms/step - loss: 0.1078 - acc: 0.9903\n",
            "Epoch 20/30\n",
            "306/306 [==============================] - 6s 19ms/step - loss: 0.0918 - acc: 0.9921\n",
            "Epoch 21/30\n",
            "306/306 [==============================] - 5s 17ms/step - loss: 0.0785 - acc: 0.9946\n",
            "Epoch 22/30\n",
            "306/306 [==============================] - 5s 16ms/step - loss: 0.0676 - acc: 0.9951\n",
            "Epoch 23/30\n",
            "306/306 [==============================] - 6s 20ms/step - loss: 0.0585 - acc: 0.9959\n",
            "Epoch 24/30\n",
            "306/306 [==============================] - 5s 16ms/step - loss: 0.0507 - acc: 0.9969\n",
            "Epoch 25/30\n",
            "306/306 [==============================] - 8s 25ms/step - loss: 0.0442 - acc: 0.9966\n",
            "Epoch 26/30\n",
            "306/306 [==============================] - 5s 18ms/step - loss: 0.0386 - acc: 0.9973\n",
            "Epoch 27/30\n",
            "306/306 [==============================] - 5s 16ms/step - loss: 0.0338 - acc: 0.9979\n",
            "Epoch 28/30\n",
            "306/306 [==============================] - 6s 21ms/step - loss: 0.0296 - acc: 0.9980\n",
            "Epoch 29/30\n",
            "306/306 [==============================] - 5s 17ms/step - loss: 0.0261 - acc: 0.9985\n",
            "Epoch 30/30\n",
            "306/306 [==============================] - 6s 21ms/step - loss: 0.0230 - acc: 0.9982\n"
          ]
        },
        {
          "output_type": "execute_result",
          "data": {
            "text/plain": [
              "<keras.src.callbacks.History at 0x7be90cc64940>"
            ]
          },
          "metadata": {},
          "execution_count": 16
        }
      ]
    },
    {
      "cell_type": "markdown",
      "source": [
        "# Predict"
      ],
      "metadata": {
        "id": "WUJ9csjmQv4g"
      }
    },
    {
      "cell_type": "code",
      "source": [
        "sample_text = 'trăm năm cõi người'\n",
        "sample_seq = tokenizer.texts_to_sequences([sample_text])\n",
        "sample_seq_pad = pad_sequences(sample_seq, maxlen=max_length, truncating='post', padding=\"post\")\n",
        "cbow.predict(sample_seq_pad)"
      ],
      "metadata": {
        "colab": {
          "base_uri": "https://localhost:8080/"
        },
        "id": "BvDBq0YCNdBv",
        "outputId": "81f85baf-8d7b-418b-d26c-d0633a2a69fc"
      },
      "execution_count": 17,
      "outputs": [
        {
          "output_type": "stream",
          "name": "stdout",
          "text": [
            "1/1 [==============================] - 0s 88ms/step\n"
          ]
        },
        {
          "output_type": "execute_result",
          "data": {
            "text/plain": [
              "array([[1.5228716e-13, 1.8188395e-13, 6.2183113e-07, ..., 1.6474524e-13,\n",
              "        1.8357078e-13, 1.5568460e-13]], dtype=float32)"
            ]
          },
          "metadata": {},
          "execution_count": 17
        }
      ]
    },
    {
      "cell_type": "code",
      "source": [
        "tokenizer.index_word[np.argmax(cbow.predict(sample_seq_pad))]"
      ],
      "metadata": {
        "colab": {
          "base_uri": "https://localhost:8080/",
          "height": 53
        },
        "id": "6Nfbe-DuOPx3",
        "outputId": "8549e2d3-fd8d-4e82-ecfe-511157358ef7"
      },
      "execution_count": 18,
      "outputs": [
        {
          "output_type": "stream",
          "name": "stdout",
          "text": [
            "1/1 [==============================] - 0s 22ms/step\n"
          ]
        },
        {
          "output_type": "execute_result",
          "data": {
            "text/plain": [
              "'năm'"
            ],
            "application/vnd.google.colaboratory.intrinsic+json": {
              "type": "string"
            }
          },
          "metadata": {},
          "execution_count": 18
        }
      ]
    }
  ]
}